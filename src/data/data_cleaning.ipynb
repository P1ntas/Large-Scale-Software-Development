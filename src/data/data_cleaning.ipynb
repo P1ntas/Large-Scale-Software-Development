{
 "cells": [
  {
   "cell_type": "code",
   "execution_count": 1,
   "id": "f0cb7e9e-48e4-4fb9-beb1-86dcca16001b",
   "metadata": {},
   "outputs": [],
   "source": [
    "import sqlite3\n",
    "import pandas as pd\n",
    "import matplotlib.pyplot as plt\n",
    "import seaborn as sns"
   ]
  },
  {
   "cell_type": "code",
   "execution_count": 2,
   "id": "531d99a6-894a-4fa3-9b3b-2f8cbdc7f43d",
   "metadata": {},
   "outputs": [],
   "source": [
    "conn = sqlite3.connect('database.db')\n",
    "\n",
    "factory = pd.read_sql_query('SELECT * FROM factory', conn)\n",
    "system = pd.read_sql_query('SELECT * FROM system', conn)\n",
    "expansion_model = pd.read_sql_query('SELECT * FROM expansion_model', conn)\n",
    "sensor_model = pd.read_sql_query('SELECT * FROM sensor_model', conn)\n",
    "system_model = pd.read_sql_query('SELECT * FROM system_model', conn)\n",
    "expansion = pd.read_sql_query('SELECT * FROM expansion', conn)\n",
    "sensor = pd.read_sql_query('SELECT * FROM sensor', conn)\n",
    "\n",
    "conn.close()"
   ]
  },
  {
   "cell_type": "code",
   "execution_count": 14,
   "id": "02cb2fe4-1474-44a6-b1b5-489c9486a55e",
   "metadata": {},
   "outputs": [],
   "source": [
    "factory = factory.dropna()\n",
    "system = system.dropna()\n",
    "expansion_model = expansion_model.dropna()\n",
    "sensor_model = sensor_model.dropna()\n",
    "system_model = system_model.dropna()\n",
    "expansion = expansion.dropna()\n",
    "sensor = sensor.dropna()"
   ]
  },
  {
   "cell_type": "code",
   "execution_count": null,
   "id": "3b126079-441b-4d3c-819e-fdbe5b64db37",
   "metadata": {},
   "outputs": [],
   "source": []
  }
 ],
 "metadata": {
  "kernelspec": {
   "display_name": "Python 3 (ipykernel)",
   "language": "python",
   "name": "python3"
  },
  "language_info": {
   "codemirror_mode": {
    "name": "ipython",
    "version": 3
   },
   "file_extension": ".py",
   "mimetype": "text/x-python",
   "name": "python",
   "nbconvert_exporter": "python",
   "pygments_lexer": "ipython3",
   "version": "3.11.5"
  }
 },
 "nbformat": 4,
 "nbformat_minor": 5
}
