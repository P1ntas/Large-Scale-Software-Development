{
 "cells": [
  {
   "cell_type": "code",
   "execution_count": null,
   "metadata": {},
   "outputs": [],
   "source": [
    "import pandas as pd\n",
    "\n",
    "# - - - - - - - - - - - - - - - - - - - -\n",
    "# Read Reference Files\n",
    "# - - - - - - - - - - - - - - - - - - - -\n",
    "\n",
    "# Read Reference Temperature\n",
    "temperature_reference = pd.read_csv('temperature_reference.csv')\n",
    "\n",
    "# Read Reference Temperature\n",
    "pressure_reference = pd.read_csv('pressure_reference.csv')\n",
    "\n",
    "# Read Reference Temperature\n",
    "airflow_reference = pd.read_csv('airflow_reference.csv')\n",
    "\n",
    "\n",
    "\n",
    "# - - - - - - - - - - - - - - - - - - - -\n",
    "# Read Simulated Files\n",
    "# - - - - - - - - - - - - - - - - - - - -\n",
    "\n",
    "# Read Simulated Temperature\n",
    "temperature_simulated = pd.read_csv('temperature_simulated.csv')\n",
    "\n",
    "# Read Simulated Temperature\n",
    "pressure_simulated = pd.read_csv('pressure_simulated.csv')\n",
    "\n",
    "# Read Simulated Temperature\n",
    "airflow_simulated = pd.read_csv('airflow_simulated.csv')"
   ]
  }
 ],
 "metadata": {
  "kernelspec": {
   "display_name": "Python 3",
   "language": "python",
   "name": "python3"
  },
  "language_info": {
   "codemirror_mode": {
    "name": "ipython",
    "version": 3
   },
   "file_extension": ".py",
   "mimetype": "text/x-python",
   "name": "python",
   "nbconvert_exporter": "python",
   "pygments_lexer": "ipython3",
   "version": "3.11.2"
  }
 },
 "nbformat": 4,
 "nbformat_minor": 2
}
