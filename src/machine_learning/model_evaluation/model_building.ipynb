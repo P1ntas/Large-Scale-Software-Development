{
 "cells": [
  {
   "cell_type": "markdown",
   "metadata": {},
   "source": [
    "# Model Building"
   ]
  },
  {
   "cell_type": "markdown",
   "metadata": {},
   "source": [
    "In order to predict whether the sensors need maintenance or not, we had python scripts that simulated data in order for us to train our model. We previously analyzed the data, and concluded that, as our data was simulated, no preprocessing was needed, because it had no typos nor outliers."
   ]
  },
  {
   "cell_type": "code",
   "execution_count": 19,
   "metadata": {},
   "outputs": [],
   "source": [
    "import pandas as pd\n",
    "import numpy as np\n",
    "from datetime import datetime, timedelta\n",
    "from sklearn.model_selection import train_test_split\n",
    "from sklearn.ensemble import RandomForestClassifier, GradientBoostingClassifier\n",
    "from sklearn.model_selection import GridSearchCV\n",
    "from sklearn.svm import SVC\n",
    "from sklearn.metrics import accuracy_score\n",
    "import matplotlib.pyplot as plt"
   ]
  },
  {
   "cell_type": "code",
   "execution_count": 20,
   "metadata": {},
   "outputs": [
    {
     "name": "stdout",
     "output_type": "stream",
     "text": [
      "Temperature data:\n",
      "             Timestamp Sensor ID  Temperature Reading (°C) Operational Status  \\\n",
      "0  2023-01-01 00:00:00     TS313                 21.224431               Down   \n",
      "1  2023-01-01 01:00:00     TS313                 23.510171            Working   \n",
      "2  2023-01-01 02:00:00     TS313                 22.493797            Working   \n",
      "3  2023-01-01 03:00:00     TS313                 21.049739            Working   \n",
      "4  2023-01-01 04:00:00     TS313                 21.540939  Needs Maintenance   \n",
      "\n",
      "  Last Maintenance Date  Ambient Humidity Heat Source Proximity Sensor Model  \\\n",
      "0   2022-11-22 00:00:00         59.450818                Medium        TS-T2   \n",
      "1   2022-08-23 01:00:00         55.940795                   Far        TS-T2   \n",
      "2   2022-08-30 02:00:00         48.724091                Medium        TS-T2   \n",
      "3   2022-09-20 03:00:00         68.036250                   Far        TS-T2   \n",
      "4   2022-07-30 04:00:00         44.025957                   Far        TS-T2   \n",
      "\n",
      "  Last Calibration Date Error Code  \n",
      "0   2022-11-23 00:00:00        NaN  \n",
      "1   2022-09-21 01:00:00        NaN  \n",
      "2   2022-09-29 02:00:00        NaN  \n",
      "3   2022-07-26 03:00:00        NaN  \n",
      "4   2022-10-11 04:00:00        NaN  \n",
      "Pressure data:\n",
      "             Timestamp Sensor ID  Pressure Reading (Pa) Operational Status  \\\n",
      "0  2023-01-01 00:00:00     PS205          102672.759480            Working   \n",
      "1  2023-01-01 01:00:00     PS205          111649.720430  Needs Maintenance   \n",
      "2  2023-01-01 02:00:00     PS205          100905.999902            Working   \n",
      "3  2023-01-01 03:00:00     PS205          107285.279411            Working   \n",
      "4  2023-01-01 04:00:00     PS205          108644.477154            Working   \n",
      "\n",
      "  Last Maintenance Date  Ambient Temperature Vibration Level Sensor Model  \\\n",
      "0   2022-10-23 00:00:00            23.250114             Low        PS-L4   \n",
      "1   2022-10-08 01:00:00            22.014419          Medium        PS-L4   \n",
      "2   2022-11-12 02:00:00            21.014936          Medium        PS-L4   \n",
      "3   2022-07-07 03:00:00            22.733542             Low        PS-L4   \n",
      "4   2022-07-23 04:00:00            20.225478            High        PS-L4   \n",
      "\n",
      "  Last Calibration Date Error Code  \n",
      "0   2022-11-25 00:00:00        NaN  \n",
      "1   2022-09-20 01:00:00        NaN  \n",
      "2   2022-08-06 02:00:00        NaN  \n",
      "3   2022-10-10 03:00:00       E201  \n",
      "4   2022-10-30 04:00:00        NaN  \n",
      "Airflow data:\n",
      "             Timestamp Sensor ID  Airflow Reading (CFM) Operational Status  \\\n",
      "0  2023-01-01 00:00:00     AF101             304.832676            Working   \n",
      "1  2023-01-01 01:00:00     AF101             334.397834            Working   \n",
      "2  2023-01-01 02:00:00     AF101             276.667022  Needs Maintenance   \n",
      "3  2023-01-01 03:00:00     AF101             276.100829            Working   \n",
      "4  2023-01-01 04:00:00     AF101             328.934458            Working   \n",
      "\n",
      "  Last Maintenance Date  Ambient Temperature  Ambient Pressure Sensor Model  \\\n",
      "0   2022-08-12 00:00:00            18.034985       1012.803296        AF-X9   \n",
      "1   2022-11-10 01:00:00            21.592676       1011.428650        AF-X9   \n",
      "2   2022-08-07 02:00:00            23.016604       1013.189511        AF-X9   \n",
      "3   2022-11-24 03:00:00            24.363416       1017.494909        AF-X9   \n",
      "4   2022-09-15 04:00:00            20.065667       1013.571904        AF-X9   \n",
      "\n",
      "  Last Calibration Date Error Code  \n",
      "0   2022-08-29 00:00:00        NaN  \n",
      "1   2022-08-01 01:00:00        NaN  \n",
      "2   2022-09-22 02:00:00        NaN  \n",
      "3   2022-07-14 03:00:00        NaN  \n",
      "4   2022-11-10 04:00:00        NaN  \n"
     ]
    }
   ],
   "source": [
    "temperature= pd.read_csv('./data/temperature_sensor_data.csv')\n",
    "\n",
    "pressure = pd.read_csv('./data/pressure_sensor_data.csv')\n",
    "\n",
    "airflow = pd.read_csv('./data/airflow_sensor_data.csv')\n",
    "\n",
    "print(\"Temperature data:\")\n",
    "print(temperature.head(5))\n",
    "print(\"Pressure data:\")\n",
    "print(pressure.head(5))\n",
    "print(\"Airflow data:\")\n",
    "print(airflow.head(5))"
   ]
  },
  {
   "cell_type": "markdown",
   "metadata": {},
   "source": [
    "We realised a 80/20 split would be the best four our models."
   ]
  },
  {
   "cell_type": "code",
   "execution_count": 21,
   "metadata": {},
   "outputs": [],
   "source": [
    "def split_data(df, test_size=0.2):\n",
    "    X = df.drop('Operational Status', axis=1)\n",
    "    y = df['Operational Status']\n",
    "\n",
    "    X = pd.get_dummies(X)\n",
    "\n",
    "    X_train, X_test, y_train, y_test = train_test_split(X, y, test_size=test_size, random_state=42)\n",
    "    return X_train, X_test, y_train, y_test\n",
    "\n",
    "X_train_temp, X_test_temp, y_train_temp, y_test_temp = split_data(temperature)\n",
    "X_train_press, X_test_press, y_train_press, y_test_press = split_data(pressure)\n",
    "X_train_airflow, X_test_airflow, y_train_airflow, y_test_airflow = split_data(airflow)"
   ]
  },
  {
   "cell_type": "markdown",
   "metadata": {},
   "source": [
    "## Models\n",
    "\n",
    "We studied different models, and ended up using RandomForestClassifier, GradientBoostingClassifier and SVC."
   ]
  },
  {
   "cell_type": "code",
   "execution_count": 22,
   "metadata": {},
   "outputs": [
    {
     "name": "stdout",
     "output_type": "stream",
     "text": [
      "Temperature Sensor Data:\n",
      "Accuracy of Random Forest: 80.00%\n",
      "Accuracy of Gradient Boosting: 80.00%\n",
      "Accuracy of SVM: 80.00%\n",
      "\n",
      "Pressure Sensor Data:\n",
      "Accuracy of Random Forest: 88.50%\n",
      "Accuracy of Gradient Boosting: 85.50%\n",
      "Accuracy of SVM: 88.50%\n",
      "\n",
      "Airflow Sensor Data:\n",
      "Accuracy of Random Forest: 79.50%\n",
      "Accuracy of Gradient Boosting: 79.50%\n",
      "Accuracy of SVM: 79.50%\n"
     ]
    }
   ],
   "source": [
    "def train_and_evaluate(X_train, X_test, y_train, y_test, model, model_name):\n",
    "    model.fit(X_train, y_train)\n",
    "    predictions = model.predict(X_test)\n",
    "    accuracy = accuracy_score(y_test, predictions)\n",
    "    print(f\"Accuracy of {model_name}: {accuracy * 100:.2f}%\")\n",
    "\n",
    "rf_model = RandomForestClassifier(random_state=42)\n",
    "gb_model = GradientBoostingClassifier(random_state=42)\n",
    "svm_model = SVC(random_state=42)\n",
    "\n",
    "print(\"Temperature Sensor Data:\")\n",
    "train_and_evaluate(X_train_temp, X_test_temp, y_train_temp, y_test_temp, rf_model, \"Random Forest\")\n",
    "train_and_evaluate(X_train_temp, X_test_temp, y_train_temp, y_test_temp, gb_model, \"Gradient Boosting\")\n",
    "train_and_evaluate(X_train_temp, X_test_temp, y_train_temp, y_test_temp, svm_model, \"SVM\")\n",
    "\n",
    "print(\"\\nPressure Sensor Data:\")\n",
    "train_and_evaluate(X_train_press, X_test_press, y_train_press, y_test_press, rf_model, \"Random Forest\")\n",
    "train_and_evaluate(X_train_press, X_test_press, y_train_press, y_test_press, gb_model, \"Gradient Boosting\")\n",
    "train_and_evaluate(X_train_press, X_test_press, y_train_press, y_test_press, svm_model, \"SVM\")\n",
    "\n",
    "print(\"\\nAirflow Sensor Data:\")\n",
    "train_and_evaluate(X_train_airflow, X_test_airflow, y_train_airflow, y_test_airflow, rf_model, \"Random Forest\")\n",
    "train_and_evaluate(X_train_airflow, X_test_airflow, y_train_airflow, y_test_airflow, gb_model, \"Gradient Boosting\")\n",
    "train_and_evaluate(X_train_airflow, X_test_airflow, y_train_airflow, y_test_airflow, svm_model, \"SVM\")"
   ]
  }
 ],
 "metadata": {
  "kernelspec": {
   "display_name": "Python 3",
   "language": "python",
   "name": "python3"
  },
  "language_info": {
   "codemirror_mode": {
    "name": "ipython",
    "version": 3
   },
   "file_extension": ".py",
   "mimetype": "text/x-python",
   "name": "python",
   "nbconvert_exporter": "python",
   "pygments_lexer": "ipython3",
   "version": "3.11.6"
  }
 },
 "nbformat": 4,
 "nbformat_minor": 2
}
